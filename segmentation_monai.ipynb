{
 "cells": [
  {
   "attachments": {},
   "cell_type": "markdown",
   "metadata": {},
   "source": [
    "# Classification vs Detection vs Segmentation\n",
    "\n",
    "* Classification is just determining whether an object exists or not in an image\n",
    "* Detection is determining where the object is in the image, and drawing a bounding box around it\n",
    "* Segmentation is determining where the object is in the image, and drawing a mask around it, i.e. a pixel-wise classification"
   ]
  }
 ],
 "metadata": {
  "kernelspec": {
   "display_name": "Python 3",
   "language": "python",
   "name": "python3"
  },
  "language_info": {
   "name": "python",
   "version": "3.11.5"
  },
  "orig_nbformat": 4
 },
 "nbformat": 4,
 "nbformat_minor": 2
}
