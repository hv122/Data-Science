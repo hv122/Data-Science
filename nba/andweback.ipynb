{
 "cells": [
  {
   "cell_type": "markdown",
   "metadata": {},
   "source": [
    "## What cool Machine Learning Algorithm do we want to implement?\n",
    "\n",
    "First thing I could do could be to develop an algorithm that determines who the highest scoring player in that year was, then guesses"
   ]
  }
 ],
 "metadata": {
  "kernelspec": {
   "display_name": "Python 3",
   "language": "python",
   "name": "python3"
  },
  "language_info": {
   "name": "python",
   "version": "3.11.6"
  }
 },
 "nbformat": 4,
 "nbformat_minor": 2
}
