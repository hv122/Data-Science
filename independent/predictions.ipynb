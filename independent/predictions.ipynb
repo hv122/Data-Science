{
 "cells": [
  {
   "cell_type": "markdown",
   "metadata": {},
   "source": [
    "# Predicting Future Statistical Seasons of Premier League Players\n",
    "\n",
    "Having created an algorithm that predicts the goalscoring output of Premier League players in their current season, based on their other statistics, we can use a similar ML model to predict the number of goals scored in a future season dependent on their previous stats. I am going to train this model with the statistics of the 21-22 season, and using those to predict the number of goals scored in the 22-23 season.\n",
    "\n",
    "A key change I will need to make from that original model is that, in it's simplest form, age plays a part in the development/decline of a player, because otherwise the model may just be predicting that the player will score the same number of goals as in the previous season.\n",
    "\n",
    "I am going to use the same web scraper that I did for the first model, as it worked really well, and then add an extra column to the first season, which is goals scored in the following season - this will be my `y` value."
   ]
  },
  {
   "cell_type": "markdown",
   "metadata": {},
   "source": [
    "## Web Scraper\n",
    "\n",
    "Our web scraper will be borrowed from the following link:\n",
    "\n",
    "We need to scrape the data for the 2021-22 season, then concatenate the goals scored by each player from the following season, we should use a natural join, that we learnt in software systems, I need to work out how this is done in Excel/ in a CSV file. This is because not all players will have played in both seasons."
   ]
  },
  {
   "cell_type": "code",
   "execution_count": 5,
   "metadata": {},
   "outputs": [],
   "source": [
    "# Importing the necessary libraries\n",
    "\n",
    "import numpy as np\n",
    "import matplotlib.pyplot as plt\n",
    "import torchmetrics\n",
    "from torch import nn\n",
    "RANDOM_SEED = 24\n",
    "\n",
    "# Hyperparameters\n",
    "\n",
    "in_features = 120\n",
    "out_features = 1"
   ]
  },
  {
   "cell_type": "markdown",
   "metadata": {},
   "source": [
    "## Bringing out "
   ]
  },
  {
   "cell_type": "code",
   "execution_count": 4,
   "metadata": {},
   "outputs": [
    {
     "ename": "NameError",
     "evalue": "name 'x' is not defined",
     "output_type": "error",
     "traceback": [
      "\u001b[0;31m---------------------------------------------------------------------------\u001b[0m",
      "\u001b[0;31mNameError\u001b[0m                                 Traceback (most recent call last)",
      "\u001b[1;32m/Users/kesh/Desktop/Personal Projects/Data Science/independent/predictions.ipynb Cell 4\u001b[0m line \u001b[0;36m2\n\u001b[1;32m     <a href='vscode-notebook-cell:/Users/kesh/Desktop/Personal%20Projects/Data%20Science/independent/predictions.ipynb#W2sZmlsZQ%3D%3D?line=18'>19</a>\u001b[0m     \u001b[39mdef\u001b[39;00m \u001b[39mforward\u001b[39m(\u001b[39mself\u001b[39m, x):\n\u001b[1;32m     <a href='vscode-notebook-cell:/Users/kesh/Desktop/Personal%20Projects/Data%20Science/independent/predictions.ipynb#W2sZmlsZQ%3D%3D?line=19'>20</a>\u001b[0m         \u001b[39mreturn\u001b[39;00m \u001b[39mself\u001b[39m\u001b[39m.\u001b[39mlayers(x)\n\u001b[0;32m---> <a href='vscode-notebook-cell:/Users/kesh/Desktop/Personal%20Projects/Data%20Science/independent/predictions.ipynb#W2sZmlsZQ%3D%3D?line=21'>22</a>\u001b[0m model_0\u001b[39m.\u001b[39mforward(model_0, x)\n",
      "\u001b[0;31mNameError\u001b[0m: name 'x' is not defined"
     ]
    }
   ],
   "source": [
    "# Constructing our neural network class\n",
    "\n",
    "class model_0(nn.Module):\n",
    "\n",
    "    def __init__(self):\n",
    "        super().__init__()\n",
    "\n",
    "        self.layers = nn.Sequential(\n",
    "            nn.Linear(in_features=120, out_features=256),\n",
    "            nn.ReLU(),\n",
    "            nn.Linear(in_features=256, out_features=128),\n",
    "            nn.ReLU(),\n",
    "            nn.Linear(in_features=128, out_features=64),\n",
    "            nn.ReLU(),\n",
    "            nn.Linear(in_features=32, out_features=1),\n",
    "        )\n",
    "\n",
    "    \n",
    "    def forward(self, x):\n",
    "        return self.layers(x)"
   ]
  },
  {
   "cell_type": "code",
   "execution_count": null,
   "metadata": {},
   "outputs": [],
   "source": []
  }
 ],
 "metadata": {
  "kernelspec": {
   "display_name": "Python 3",
   "language": "python",
   "name": "python3"
  },
  "language_info": {
   "codemirror_mode": {
    "name": "ipython",
    "version": 3
   },
   "file_extension": ".py",
   "mimetype": "text/x-python",
   "name": "python",
   "nbconvert_exporter": "python",
   "pygments_lexer": "ipython3",
   "version": "3.11.6"
  }
 },
 "nbformat": 4,
 "nbformat_minor": 2
}
